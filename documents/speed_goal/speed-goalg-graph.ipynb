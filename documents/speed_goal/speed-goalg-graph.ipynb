{
 "cells": [
  {
   "cell_type": "code",
   "execution_count": null,
   "metadata": {},
   "outputs": [],
   "source": []
  }
 ],
 "metadata": {
  "interpreter": {
   "hash": "fa75a4c70c649ad1f40727d2f77fdf697d6dc67086101189351a6e5ed7f96439"
  },
  "kernelspec": {
   "display_name": "Python 3.8.8 ('DAISE')",
   "language": "python",
   "name": "python3"
  },
  "language_info": {
   "name": "python",
   "version": "3.8.8"
  },
  "orig_nbformat": 4
 },
 "nbformat": 4,
 "nbformat_minor": 2
}
